{
 "cells": [
  {
   "cell_type": "markdown",
   "id": "a19c5626",
   "metadata": {},
   "source": [
    "# Un modelo de mezcla de marketing mejorado en Python"
   ]
  },
  {
   "cell_type": "markdown",
   "id": "5fe4ed2e",
   "metadata": {},
   "source": [
    "![banner](https://raw.githubusercontent.com/MayumyCH/marketing_mix_modeling_project_python/main/resources/banner.jpeg)\n",
    "\n",
    "_Este proyecto propone el análisis de la data proporcionada por Kaggle para el área de Marketing; se busca encontrar **\"Qué inversión publicitaria impulsa** realmente **las ventas\"**._"
   ]
  },
  {
   "cell_type": "code",
   "execution_count": 52,
   "id": "d2634c61",
   "metadata": {},
   "outputs": [],
   "source": [
    "import pandas as pd\n",
    "import numpy as np\n",
    "import datetime as dt\n",
    "\n",
    "from sklearn import set_config\n",
    "set_config(display='diagram')"
   ]
  },
  {
   "cell_type": "code",
   "execution_count": 53,
   "id": "b0f5c80e",
   "metadata": {},
   "outputs": [
    {
     "data": {
      "text/html": [
       "<div>\n",
       "<style scoped>\n",
       "    .dataframe tbody tr th:only-of-type {\n",
       "        vertical-align: middle;\n",
       "    }\n",
       "\n",
       "    .dataframe tbody tr th {\n",
       "        vertical-align: top;\n",
       "    }\n",
       "\n",
       "    .dataframe thead th {\n",
       "        text-align: right;\n",
       "    }\n",
       "</style>\n",
       "<table border=\"1\" class=\"dataframe\">\n",
       "  <thead>\n",
       "    <tr style=\"text-align: right;\">\n",
       "      <th></th>\n",
       "      <th>TV</th>\n",
       "      <th>Radio</th>\n",
       "      <th>Banners</th>\n",
       "      <th>Sales</th>\n",
       "    </tr>\n",
       "    <tr>\n",
       "      <th>Date</th>\n",
       "      <th></th>\n",
       "      <th></th>\n",
       "      <th></th>\n",
       "      <th></th>\n",
       "    </tr>\n",
       "  </thead>\n",
       "  <tbody>\n",
       "    <tr>\n",
       "      <th>2018-01-07</th>\n",
       "      <td>13528.1</td>\n",
       "      <td>0.00</td>\n",
       "      <td>0.00</td>\n",
       "      <td>9779.80</td>\n",
       "    </tr>\n",
       "    <tr>\n",
       "      <th>2018-01-14</th>\n",
       "      <td>0.0</td>\n",
       "      <td>5349.65</td>\n",
       "      <td>2218.93</td>\n",
       "      <td>13245.19</td>\n",
       "    </tr>\n",
       "    <tr>\n",
       "      <th>2018-01-21</th>\n",
       "      <td>0.0</td>\n",
       "      <td>4235.86</td>\n",
       "      <td>2046.96</td>\n",
       "      <td>12022.66</td>\n",
       "    </tr>\n",
       "    <tr>\n",
       "      <th>2018-01-28</th>\n",
       "      <td>0.0</td>\n",
       "      <td>3562.21</td>\n",
       "      <td>0.00</td>\n",
       "      <td>8846.95</td>\n",
       "    </tr>\n",
       "    <tr>\n",
       "      <th>2018-02-04</th>\n",
       "      <td>0.0</td>\n",
       "      <td>0.00</td>\n",
       "      <td>2187.29</td>\n",
       "      <td>9797.07</td>\n",
       "    </tr>\n",
       "  </tbody>\n",
       "</table>\n",
       "</div>"
      ],
      "text/plain": [
       "                 TV    Radio  Banners     Sales\n",
       "Date                                           \n",
       "2018-01-07  13528.1     0.00     0.00   9779.80\n",
       "2018-01-14      0.0  5349.65  2218.93  13245.19\n",
       "2018-01-21      0.0  4235.86  2046.96  12022.66\n",
       "2018-01-28      0.0  3562.21     0.00   8846.95\n",
       "2018-02-04      0.0     0.00  2187.29   9797.07"
      ]
     },
     "execution_count": 53,
     "metadata": {},
     "output_type": "execute_result"
    }
   ],
   "source": [
    "# IMPORTAR los datos desde Computador\n",
    "url_data = \"dataset/datasetMedium.csv\"\n",
    "\n",
    "# Importar los datos desde un link\n",
    "#url_data = \"https://raw.githubusercontent.com/MayumyCH/marketing_mix_modeling_project_python/main/dataset/data_marketing.csv\"\n",
    "\n",
    "data_Marketing = pd.read_csv(url_data, delimiter=',',parse_dates = ['Date'],index_col = 'Date')\n",
    "\n",
    "data_Marketing.head()\n",
    "# data_Marketing.sample(5)"
   ]
  },
  {
   "cell_type": "code",
   "execution_count": 54,
   "id": "f36a75b7",
   "metadata": {},
   "outputs": [],
   "source": [
    "# MODELO\n",
    "target = 'Sales'\n",
    "predictoras = ['TV','Radio','Banners']\n",
    "X = data_Marketing[predictoras]\n",
    "y = data_Marketing[target]"
   ]
  },
  {
   "cell_type": "markdown",
   "id": "c1335429",
   "metadata": {},
   "source": [
    "## DIVISION DE LA DATA"
   ]
  },
  {
   "cell_type": "code",
   "execution_count": 55,
   "id": "f5a8b4c1",
   "metadata": {},
   "outputs": [
    {
     "data": {
      "text/plain": [
       "140"
      ]
     },
     "execution_count": 55,
     "metadata": {},
     "output_type": "execute_result"
    }
   ],
   "source": [
    "from sklearn.model_selection import train_test_split\n",
    "\n",
    "x_train, x_test, y_train, y_test = train_test_split(X, y,test_size=0.3, random_state=888)\n",
    "len(x_train)"
   ]
  },
  {
   "cell_type": "markdown",
   "id": "7bb6d225",
   "metadata": {},
   "source": [
    "## 🛠 Feature Engineering"
   ]
  },
  {
   "cell_type": "code",
   "execution_count": 56,
   "id": "deab796a",
   "metadata": {},
   "outputs": [],
   "source": [
    "from sklearn.base import BaseEstimator, TransformerMixin\n",
    "from sklearn.utils.validation import check_is_fitted, check_array\n",
    "\n",
    "from scipy.signal import convolve2d"
   ]
  },
  {
   "cell_type": "code",
   "execution_count": 57,
   "id": "aafc1ee4",
   "metadata": {},
   "outputs": [],
   "source": [
    "# ExponentialSaturation es un transformer\n",
    "class ExponentialSaturation (BaseEstimator, TransformerMixin):\n",
    "    def __init__ (self, a = 1.):\n",
    "        self.a = a\n",
    "        \n",
    "    def fit(self, X, y = None):\n",
    "        X = check_array(X) \n",
    "        self._check_n_features(X, reset = True) # de BaseEstimator\n",
    "        return self\n",
    "    \n",
    "    def transform (self, X):\n",
    "        check_is_fitted (self)\n",
    "        X = check_array (X)\n",
    "        self._check_n_features (X, reset = False) # de BaseEstimator (para qué es el reset?)\n",
    "        return 1 - np.exp (-self.a * X)"
   ]
  },
  {
   "cell_type": "code",
   "execution_count": 58,
   "id": "301c1b54",
   "metadata": {},
   "outputs": [],
   "source": [
    "featureTransformer = ['TV','Radio','Banners']\n",
    "exSat = ExponentialSaturation()\n",
    "# exSat.fit(x_train[featureTransformer])\n",
    "# exSat.transform(x_test[featureTransformer])"
   ]
  },
  {
   "cell_type": "code",
   "execution_count": 59,
   "id": "e4c5db73",
   "metadata": {},
   "outputs": [
    {
     "data": {
      "text/plain": [
       "array([[1.        ],\n",
       "       [1.        ],\n",
       "       [1.        ],\n",
       "       [1.        ],\n",
       "       [1.        ],\n",
       "       [0.99326205],\n",
       "       [0.        ],\n",
       "       [1.        ]])"
      ]
     },
     "execution_count": 59,
     "metadata": {},
     "output_type": "execute_result"
    }
   ],
   "source": [
    "df = pd.DataFrame()\n",
    "nombres = ['A', 'B', 'C','D', 'E', 'F','G','H']\n",
    "edades = [100, 50, 30,120,9001,5,0,80]\n",
    "\n",
    "df['Nombre'] = nombres\n",
    "df['Spends'] = edades\n",
    "df\n",
    "\n",
    "exSat.fit(df[['Spends']])\n",
    "resultttt = exSat.transform(df[['Spends']])\n",
    "resultttt"
   ]
  },
  {
   "cell_type": "code",
   "execution_count": 60,
   "id": "c1953eb2",
   "metadata": {},
   "outputs": [],
   "source": [
    "class ExponentialCarryover (BaseEstimator, TransformerMixin): \n",
    "    def __init__(self, strength = 0.5, length = 1):\n",
    "        self.strength = strength\n",
    "        self.length = length\n",
    "        \n",
    "    def fit(self, X, y = None):\n",
    "        X = check_array(X)\n",
    "        self._check_n_features(X, reset=True)\n",
    "        self.sliding_window_ = (\n",
    "            self.strength ** np.arange(self.length + 1)\n",
    "        ).reshape(-1, 1)\n",
    "        return self\n",
    "\n",
    "    def transform(self, X: np.ndarray):\n",
    "        check_is_fitted(self)\n",
    "        X = check_array(X)\n",
    "        self._check_n_features(X, reset=False)\n",
    "        convolution = convolve2d(X, self.sliding_window_)\n",
    "        if self.length > 0:\n",
    "            convolution = convolution[: -self.length]\n",
    "        return convolution"
   ]
  },
  {
   "cell_type": "code",
   "execution_count": 61,
   "id": "72703bef",
   "metadata": {},
   "outputs": [],
   "source": [
    "featureTransformer = ['TV','Radio','Banners']\n",
    "exCarry = ExponentialCarryover()\n",
    "# exCarry.fit(x_train[featureTransformer])\n",
    "# exCarry.transform(x_test[featureTransformer])"
   ]
  },
  {
   "cell_type": "markdown",
   "id": "4f1d4fd2",
   "metadata": {},
   "source": [
    "# PIPELINES"
   ]
  },
  {
   "cell_type": "markdown",
   "id": "37de66af",
   "metadata": {},
   "source": [
    "## ColumnTransformer"
   ]
  },
  {
   "cell_type": "code",
   "execution_count": 62,
   "id": "3555203c",
   "metadata": {},
   "outputs": [],
   "source": [
    "from sklearn.compose import ColumnTransformer\n",
    "from sklearn.pipeline import Pipeline\n",
    "from sklearn.linear_model import LinearRegression"
   ]
  },
  {
   "cell_type": "code",
   "execution_count": 63,
   "id": "85faece5",
   "metadata": {},
   "outputs": [],
   "source": [
    "# PIPELINE CON LAS 2 TRANSFORMACIONES \n",
    "# Que son necesarias para mis features numericos de interes\n",
    "\n",
    "transformer_pipeline = Pipeline(\n",
    "    [\n",
    "        ('carryover', ExponentialCarryover()),\n",
    "        ('saturation', ExponentialSaturation())\n",
    "    ]\n",
    ")"
   ]
  },
  {
   "cell_type": "code",
   "execution_count": 64,
   "id": "b02f9cdd",
   "metadata": {},
   "outputs": [],
   "source": [
    "# adstock = ColumnTransformer(\n",
    "#     [\n",
    "#         ('adstock_ct',\n",
    "#         adstock_pipe,\n",
    "#         ['TV','Radio','Social Media'])\n",
    "# ])"
   ]
  },
  {
   "cell_type": "code",
   "execution_count": 65,
   "id": "3e45e499",
   "metadata": {},
   "outputs": [
    {
     "data": {
      "text/html": [
       "<style>#sk-51aef71a-d057-4401-9d4d-cb94abf64fd1 {color: black;background-color: white;}#sk-51aef71a-d057-4401-9d4d-cb94abf64fd1 pre{padding: 0;}#sk-51aef71a-d057-4401-9d4d-cb94abf64fd1 div.sk-toggleable {background-color: white;}#sk-51aef71a-d057-4401-9d4d-cb94abf64fd1 label.sk-toggleable__label {cursor: pointer;display: block;width: 100%;margin-bottom: 0;padding: 0.2em 0.3em;box-sizing: border-box;text-align: center;}#sk-51aef71a-d057-4401-9d4d-cb94abf64fd1 div.sk-toggleable__content {max-height: 0;max-width: 0;overflow: hidden;text-align: left;background-color: #f0f8ff;}#sk-51aef71a-d057-4401-9d4d-cb94abf64fd1 div.sk-toggleable__content pre {margin: 0.2em;color: black;border-radius: 0.25em;background-color: #f0f8ff;}#sk-51aef71a-d057-4401-9d4d-cb94abf64fd1 input.sk-toggleable__control:checked~div.sk-toggleable__content {max-height: 200px;max-width: 100%;overflow: auto;}#sk-51aef71a-d057-4401-9d4d-cb94abf64fd1 div.sk-estimator input.sk-toggleable__control:checked~label.sk-toggleable__label {background-color: #d4ebff;}#sk-51aef71a-d057-4401-9d4d-cb94abf64fd1 div.sk-label input.sk-toggleable__control:checked~label.sk-toggleable__label {background-color: #d4ebff;}#sk-51aef71a-d057-4401-9d4d-cb94abf64fd1 input.sk-hidden--visually {border: 0;clip: rect(1px 1px 1px 1px);clip: rect(1px, 1px, 1px, 1px);height: 1px;margin: -1px;overflow: hidden;padding: 0;position: absolute;width: 1px;}#sk-51aef71a-d057-4401-9d4d-cb94abf64fd1 div.sk-estimator {font-family: monospace;background-color: #f0f8ff;margin: 0.25em 0.25em;border: 1px dotted black;border-radius: 0.25em;box-sizing: border-box;}#sk-51aef71a-d057-4401-9d4d-cb94abf64fd1 div.sk-estimator:hover {background-color: #d4ebff;}#sk-51aef71a-d057-4401-9d4d-cb94abf64fd1 div.sk-parallel-item::after {content: \"\";width: 100%;border-bottom: 1px solid gray;flex-grow: 1;}#sk-51aef71a-d057-4401-9d4d-cb94abf64fd1 div.sk-label:hover label.sk-toggleable__label {background-color: #d4ebff;}#sk-51aef71a-d057-4401-9d4d-cb94abf64fd1 div.sk-serial::before {content: \"\";position: absolute;border-left: 1px solid gray;box-sizing: border-box;top: 2em;bottom: 0;left: 50%;}#sk-51aef71a-d057-4401-9d4d-cb94abf64fd1 div.sk-serial {display: flex;flex-direction: column;align-items: center;background-color: white;}#sk-51aef71a-d057-4401-9d4d-cb94abf64fd1 div.sk-item {z-index: 1;}#sk-51aef71a-d057-4401-9d4d-cb94abf64fd1 div.sk-parallel {display: flex;align-items: stretch;justify-content: center;background-color: white;}#sk-51aef71a-d057-4401-9d4d-cb94abf64fd1 div.sk-parallel-item {display: flex;flex-direction: column;position: relative;background-color: white;}#sk-51aef71a-d057-4401-9d4d-cb94abf64fd1 div.sk-parallel-item:first-child::after {align-self: flex-end;width: 50%;}#sk-51aef71a-d057-4401-9d4d-cb94abf64fd1 div.sk-parallel-item:last-child::after {align-self: flex-start;width: 50%;}#sk-51aef71a-d057-4401-9d4d-cb94abf64fd1 div.sk-parallel-item:only-child::after {width: 0;}#sk-51aef71a-d057-4401-9d4d-cb94abf64fd1 div.sk-dashed-wrapped {border: 1px dashed gray;margin: 0.2em;box-sizing: border-box;padding-bottom: 0.1em;background-color: white;position: relative;}#sk-51aef71a-d057-4401-9d4d-cb94abf64fd1 div.sk-label label {font-family: monospace;font-weight: bold;background-color: white;display: inline-block;line-height: 1.2em;}#sk-51aef71a-d057-4401-9d4d-cb94abf64fd1 div.sk-label-container {position: relative;z-index: 2;text-align: center;}#sk-51aef71a-d057-4401-9d4d-cb94abf64fd1 div.sk-container {display: inline-block;position: relative;}</style><div id=\"sk-51aef71a-d057-4401-9d4d-cb94abf64fd1\" class\"sk-top-container\"><div class=\"sk-container\"><div class=\"sk-item sk-dashed-wrapped\"><div class=\"sk-label-container\"><div class=\"sk-label sk-toggleable\"><input class=\"sk-toggleable__control sk-hidden--visually\" id=\"9cd77d51-ed0d-4477-a274-ca4a627776e9\" type=\"checkbox\" ><label class=\"sk-toggleable__label\" for=\"9cd77d51-ed0d-4477-a274-ca4a627776e9\">ColumnTransformer</label><div class=\"sk-toggleable__content\"><pre>ColumnTransformer(remainder='passthrough',\n",
       "                  transformers=[('transformer_pipeline',\n",
       "                                 Pipeline(steps=[('carryover',\n",
       "                                                  ExponentialCarryover()),\n",
       "                                                 ('saturation',\n",
       "                                                  ExponentialSaturation())]),\n",
       "                                 ['TV', 'Radio', 'Banners'])])</pre></div></div></div><div class=\"sk-parallel\"><div class=\"sk-parallel-item\"><div class=\"sk-item\"><div class=\"sk-label-container\"><div class=\"sk-label sk-toggleable\"><input class=\"sk-toggleable__control sk-hidden--visually\" id=\"968370c3-3fe4-4251-83cd-7f770609fe49\" type=\"checkbox\" ><label class=\"sk-toggleable__label\" for=\"968370c3-3fe4-4251-83cd-7f770609fe49\">transformer_pipeline</label><div class=\"sk-toggleable__content\"><pre>['TV', 'Radio', 'Banners']</pre></div></div></div><div class=\"sk-serial\"><div class=\"sk-item\"><div class=\"sk-serial\"><div class=\"sk-item\"><div class=\"sk-estimator sk-toggleable\"><input class=\"sk-toggleable__control sk-hidden--visually\" id=\"a4d84fb6-772f-45c3-8b2e-4964b9d4dab1\" type=\"checkbox\" ><label class=\"sk-toggleable__label\" for=\"a4d84fb6-772f-45c3-8b2e-4964b9d4dab1\">ExponentialCarryover</label><div class=\"sk-toggleable__content\"><pre>ExponentialCarryover()</pre></div></div></div><div class=\"sk-item\"><div class=\"sk-estimator sk-toggleable\"><input class=\"sk-toggleable__control sk-hidden--visually\" id=\"60aaf7b5-7612-407e-ac3c-e2de784e953a\" type=\"checkbox\" ><label class=\"sk-toggleable__label\" for=\"60aaf7b5-7612-407e-ac3c-e2de784e953a\">ExponentialSaturation</label><div class=\"sk-toggleable__content\"><pre>ExponentialSaturation()</pre></div></div></div></div></div></div></div></div><div class=\"sk-parallel-item\"><div class=\"sk-item\"><div class=\"sk-label-container\"><div class=\"sk-label sk-toggleable\"><input class=\"sk-toggleable__control sk-hidden--visually\" id=\"85ef33ca-09f4-4e9e-b76e-c8327c79b9d8\" type=\"checkbox\" ><label class=\"sk-toggleable__label\" for=\"85ef33ca-09f4-4e9e-b76e-c8327c79b9d8\">remainder</label><div class=\"sk-toggleable__content\"><pre></pre></div></div></div><div class=\"sk-serial\"><div class=\"sk-item\"><div class=\"sk-estimator sk-toggleable\"><input class=\"sk-toggleable__control sk-hidden--visually\" id=\"f1a0c985-739e-4da9-8da0-443c1cbab4d6\" type=\"checkbox\" ><label class=\"sk-toggleable__label\" for=\"f1a0c985-739e-4da9-8da0-443c1cbab4d6\">passthrough</label><div class=\"sk-toggleable__content\"><pre>passthrough</pre></div></div></div></div></div></div></div></div></div></div>"
      ],
      "text/plain": [
       "ColumnTransformer(remainder='passthrough',\n",
       "                  transformers=[('transformer_pipeline',\n",
       "                                 Pipeline(steps=[('carryover',\n",
       "                                                  ExponentialCarryover()),\n",
       "                                                 ('saturation',\n",
       "                                                  ExponentialSaturation())]),\n",
       "                                 ['TV', 'Radio', 'Banners'])])"
      ]
     },
     "metadata": {},
     "output_type": "display_data"
    }
   ],
   "source": [
    "featureTransformer = [\n",
    "    'TV',\n",
    "    'Radio',\n",
    "    'Banners'\n",
    "]\n",
    "\n",
    "# transformer_num == adstock\n",
    "transformer_num= ColumnTransformer(\n",
    "    [\n",
    "        (\"transformer_pipeline\", transformer_pipeline, featureTransformer),\n",
    "    ],\n",
    "    remainder=\"passthrough\" # Las demas variables no sean transformadas\n",
    ")\n",
    "\n",
    "display(transformer_num)"
   ]
  },
  {
   "cell_type": "code",
   "execution_count": 66,
   "id": "379fb8bd",
   "metadata": {},
   "outputs": [
    {
     "data": {
      "text/plain": [
       "array([[1., 0., 1.],\n",
       "       [1., 0., 1.],\n",
       "       [0., 0., 1.],\n",
       "       [1., 0., 1.],\n",
       "       [1., 0., 1.],\n",
       "       [1., 1., 1.],\n",
       "       [0., 1., 1.],\n",
       "       [0., 1., 1.],\n",
       "       [0., 1., 1.],\n",
       "       [0., 1., 1.],\n",
       "       [1., 1., 1.],\n",
       "       [1., 1., 1.],\n",
       "       [1., 1., 1.],\n",
       "       [1., 1., 1.],\n",
       "       [1., 1., 1.],\n",
       "       [1., 0., 1.],\n",
       "       [1., 1., 1.],\n",
       "       [1., 1., 1.],\n",
       "       [1., 0., 1.],\n",
       "       [1., 1., 1.],\n",
       "       [0., 1., 1.],\n",
       "       [0., 1., 1.],\n",
       "       [0., 1., 1.],\n",
       "       [0., 0., 1.],\n",
       "       [0., 0., 1.],\n",
       "       [0., 0., 1.],\n",
       "       [0., 0., 1.],\n",
       "       [0., 0., 1.],\n",
       "       [0., 1., 1.],\n",
       "       [0., 1., 1.],\n",
       "       [0., 1., 0.],\n",
       "       [0., 1., 1.],\n",
       "       [0., 1., 1.],\n",
       "       [0., 0., 1.],\n",
       "       [0., 1., 1.],\n",
       "       [0., 1., 1.],\n",
       "       [0., 1., 1.],\n",
       "       [0., 1., 1.],\n",
       "       [0., 1., 1.],\n",
       "       [1., 0., 1.],\n",
       "       [1., 0., 1.],\n",
       "       [0., 0., 1.],\n",
       "       [0., 0., 1.],\n",
       "       [1., 1., 1.],\n",
       "       [1., 1., 1.],\n",
       "       [0., 1., 1.],\n",
       "       [1., 0., 1.],\n",
       "       [1., 0., 1.],\n",
       "       [1., 0., 1.],\n",
       "       [0., 1., 1.],\n",
       "       [0., 1., 1.],\n",
       "       [1., 1., 1.],\n",
       "       [1., 1., 1.],\n",
       "       [1., 1., 1.],\n",
       "       [1., 1., 1.],\n",
       "       [0., 0., 1.],\n",
       "       [0., 0., 1.],\n",
       "       [0., 1., 1.],\n",
       "       [1., 1., 1.],\n",
       "       [1., 0., 1.],\n",
       "       [0., 1., 1.],\n",
       "       [0., 1., 1.],\n",
       "       [1., 1., 1.],\n",
       "       [1., 1., 1.],\n",
       "       [1., 1., 1.],\n",
       "       [1., 1., 1.],\n",
       "       [0., 0., 1.],\n",
       "       [0., 0., 1.],\n",
       "       [0., 0., 1.],\n",
       "       [0., 0., 1.],\n",
       "       [0., 1., 1.],\n",
       "       [0., 1., 1.],\n",
       "       [0., 1., 1.],\n",
       "       [1., 1., 1.],\n",
       "       [1., 1., 1.],\n",
       "       [0., 1., 1.],\n",
       "       [0., 1., 1.],\n",
       "       [1., 0., 1.],\n",
       "       [1., 0., 1.],\n",
       "       [0., 1., 1.],\n",
       "       [0., 1., 1.],\n",
       "       [0., 1., 1.],\n",
       "       [0., 1., 1.],\n",
       "       [0., 1., 1.],\n",
       "       [0., 1., 1.],\n",
       "       [0., 1., 1.],\n",
       "       [0., 1., 1.],\n",
       "       [1., 0., 1.],\n",
       "       [1., 0., 1.],\n",
       "       [0., 0., 1.],\n",
       "       [0., 0., 0.],\n",
       "       [0., 0., 1.],\n",
       "       [0., 0., 1.],\n",
       "       [1., 0., 1.],\n",
       "       [1., 1., 1.],\n",
       "       [0., 1., 1.],\n",
       "       [0., 1., 1.],\n",
       "       [0., 1., 1.],\n",
       "       [1., 0., 1.],\n",
       "       [1., 1., 1.],\n",
       "       [0., 1., 1.],\n",
       "       [0., 0., 1.],\n",
       "       [0., 1., 1.],\n",
       "       [0., 1., 1.],\n",
       "       [0., 0., 1.],\n",
       "       [1., 1., 1.],\n",
       "       [1., 1., 0.],\n",
       "       [0., 1., 1.],\n",
       "       [0., 1., 1.],\n",
       "       [1., 0., 1.],\n",
       "       [1., 0., 1.],\n",
       "       [1., 0., 1.],\n",
       "       [0., 0., 1.],\n",
       "       [0., 0., 1.],\n",
       "       [0., 0., 1.],\n",
       "       [0., 1., 1.],\n",
       "       [1., 1., 1.],\n",
       "       [1., 1., 1.],\n",
       "       [0., 1., 0.],\n",
       "       [0., 0., 1.],\n",
       "       [1., 0., 1.],\n",
       "       [1., 0., 1.],\n",
       "       [0., 0., 1.],\n",
       "       [0., 0., 1.],\n",
       "       [0., 0., 1.],\n",
       "       [0., 1., 1.],\n",
       "       [0., 1., 1.],\n",
       "       [0., 1., 1.],\n",
       "       [0., 1., 1.],\n",
       "       [0., 1., 1.],\n",
       "       [1., 1., 1.],\n",
       "       [1., 1., 1.],\n",
       "       [1., 0., 1.],\n",
       "       [1., 1., 1.],\n",
       "       [1., 1., 1.],\n",
       "       [1., 1., 0.],\n",
       "       [1., 1., 1.],\n",
       "       [1., 1., 1.],\n",
       "       [0., 1., 1.],\n",
       "       [0., 1., 1.]])"
      ]
     },
     "execution_count": 66,
     "metadata": {},
     "output_type": "execute_result"
    }
   ],
   "source": [
    "X_transformed = transformer_num.fit_transform(x_train, y_train)\n",
    "X_transformed"
   ]
  },
  {
   "cell_type": "code",
   "execution_count": 67,
   "id": "3b54f9f9",
   "metadata": {},
   "outputs": [
    {
     "data": {
      "text/plain": [
       "(140, 3)"
      ]
     },
     "execution_count": 67,
     "metadata": {},
     "output_type": "execute_result"
    }
   ],
   "source": [
    "X_transformed.shape"
   ]
  },
  {
   "cell_type": "code",
   "execution_count": 68,
   "id": "1afcb83f",
   "metadata": {},
   "outputs": [
    {
     "data": {
      "text/html": [
       "<style>#sk-2c45fe88-1f81-4326-8cf3-e2f0e8e9af10 {color: black;background-color: white;}#sk-2c45fe88-1f81-4326-8cf3-e2f0e8e9af10 pre{padding: 0;}#sk-2c45fe88-1f81-4326-8cf3-e2f0e8e9af10 div.sk-toggleable {background-color: white;}#sk-2c45fe88-1f81-4326-8cf3-e2f0e8e9af10 label.sk-toggleable__label {cursor: pointer;display: block;width: 100%;margin-bottom: 0;padding: 0.2em 0.3em;box-sizing: border-box;text-align: center;}#sk-2c45fe88-1f81-4326-8cf3-e2f0e8e9af10 div.sk-toggleable__content {max-height: 0;max-width: 0;overflow: hidden;text-align: left;background-color: #f0f8ff;}#sk-2c45fe88-1f81-4326-8cf3-e2f0e8e9af10 div.sk-toggleable__content pre {margin: 0.2em;color: black;border-radius: 0.25em;background-color: #f0f8ff;}#sk-2c45fe88-1f81-4326-8cf3-e2f0e8e9af10 input.sk-toggleable__control:checked~div.sk-toggleable__content {max-height: 200px;max-width: 100%;overflow: auto;}#sk-2c45fe88-1f81-4326-8cf3-e2f0e8e9af10 div.sk-estimator input.sk-toggleable__control:checked~label.sk-toggleable__label {background-color: #d4ebff;}#sk-2c45fe88-1f81-4326-8cf3-e2f0e8e9af10 div.sk-label input.sk-toggleable__control:checked~label.sk-toggleable__label {background-color: #d4ebff;}#sk-2c45fe88-1f81-4326-8cf3-e2f0e8e9af10 input.sk-hidden--visually {border: 0;clip: rect(1px 1px 1px 1px);clip: rect(1px, 1px, 1px, 1px);height: 1px;margin: -1px;overflow: hidden;padding: 0;position: absolute;width: 1px;}#sk-2c45fe88-1f81-4326-8cf3-e2f0e8e9af10 div.sk-estimator {font-family: monospace;background-color: #f0f8ff;margin: 0.25em 0.25em;border: 1px dotted black;border-radius: 0.25em;box-sizing: border-box;}#sk-2c45fe88-1f81-4326-8cf3-e2f0e8e9af10 div.sk-estimator:hover {background-color: #d4ebff;}#sk-2c45fe88-1f81-4326-8cf3-e2f0e8e9af10 div.sk-parallel-item::after {content: \"\";width: 100%;border-bottom: 1px solid gray;flex-grow: 1;}#sk-2c45fe88-1f81-4326-8cf3-e2f0e8e9af10 div.sk-label:hover label.sk-toggleable__label {background-color: #d4ebff;}#sk-2c45fe88-1f81-4326-8cf3-e2f0e8e9af10 div.sk-serial::before {content: \"\";position: absolute;border-left: 1px solid gray;box-sizing: border-box;top: 2em;bottom: 0;left: 50%;}#sk-2c45fe88-1f81-4326-8cf3-e2f0e8e9af10 div.sk-serial {display: flex;flex-direction: column;align-items: center;background-color: white;}#sk-2c45fe88-1f81-4326-8cf3-e2f0e8e9af10 div.sk-item {z-index: 1;}#sk-2c45fe88-1f81-4326-8cf3-e2f0e8e9af10 div.sk-parallel {display: flex;align-items: stretch;justify-content: center;background-color: white;}#sk-2c45fe88-1f81-4326-8cf3-e2f0e8e9af10 div.sk-parallel-item {display: flex;flex-direction: column;position: relative;background-color: white;}#sk-2c45fe88-1f81-4326-8cf3-e2f0e8e9af10 div.sk-parallel-item:first-child::after {align-self: flex-end;width: 50%;}#sk-2c45fe88-1f81-4326-8cf3-e2f0e8e9af10 div.sk-parallel-item:last-child::after {align-self: flex-start;width: 50%;}#sk-2c45fe88-1f81-4326-8cf3-e2f0e8e9af10 div.sk-parallel-item:only-child::after {width: 0;}#sk-2c45fe88-1f81-4326-8cf3-e2f0e8e9af10 div.sk-dashed-wrapped {border: 1px dashed gray;margin: 0.2em;box-sizing: border-box;padding-bottom: 0.1em;background-color: white;position: relative;}#sk-2c45fe88-1f81-4326-8cf3-e2f0e8e9af10 div.sk-label label {font-family: monospace;font-weight: bold;background-color: white;display: inline-block;line-height: 1.2em;}#sk-2c45fe88-1f81-4326-8cf3-e2f0e8e9af10 div.sk-label-container {position: relative;z-index: 2;text-align: center;}#sk-2c45fe88-1f81-4326-8cf3-e2f0e8e9af10 div.sk-container {display: inline-block;position: relative;}</style><div id=\"sk-2c45fe88-1f81-4326-8cf3-e2f0e8e9af10\" class\"sk-top-container\"><div class=\"sk-container\"><div class=\"sk-item sk-dashed-wrapped\"><div class=\"sk-label-container\"><div class=\"sk-label sk-toggleable\"><input class=\"sk-toggleable__control sk-hidden--visually\" id=\"41273776-93fa-425b-9e45-c781eebd25bf\" type=\"checkbox\" ><label class=\"sk-toggleable__label\" for=\"41273776-93fa-425b-9e45-c781eebd25bf\">Pipeline</label><div class=\"sk-toggleable__content\"><pre>Pipeline(steps=[('transformer_num',\n",
       "                 ColumnTransformer(remainder='passthrough',\n",
       "                                   transformers=[('transformer_pipeline',\n",
       "                                                  Pipeline(steps=[('carryover',\n",
       "                                                                   ExponentialCarryover()),\n",
       "                                                                  ('saturation',\n",
       "                                                                   ExponentialSaturation())]),\n",
       "                                                  ['TV', 'Radio',\n",
       "                                                   'Banners'])]))])</pre></div></div></div><div class=\"sk-serial\"><div class=\"sk-item sk-dashed-wrapped\"><div class=\"sk-label-container\"><div class=\"sk-label sk-toggleable\"><input class=\"sk-toggleable__control sk-hidden--visually\" id=\"4e5f8431-aa83-474f-be5c-72311788ff25\" type=\"checkbox\" ><label class=\"sk-toggleable__label\" for=\"4e5f8431-aa83-474f-be5c-72311788ff25\">transformer_num: ColumnTransformer</label><div class=\"sk-toggleable__content\"><pre>ColumnTransformer(remainder='passthrough',\n",
       "                  transformers=[('transformer_pipeline',\n",
       "                                 Pipeline(steps=[('carryover',\n",
       "                                                  ExponentialCarryover()),\n",
       "                                                 ('saturation',\n",
       "                                                  ExponentialSaturation())]),\n",
       "                                 ['TV', 'Radio', 'Banners'])])</pre></div></div></div><div class=\"sk-parallel\"><div class=\"sk-parallel-item\"><div class=\"sk-item\"><div class=\"sk-label-container\"><div class=\"sk-label sk-toggleable\"><input class=\"sk-toggleable__control sk-hidden--visually\" id=\"10002d05-9538-4025-9c7d-7b553d8ffcc3\" type=\"checkbox\" ><label class=\"sk-toggleable__label\" for=\"10002d05-9538-4025-9c7d-7b553d8ffcc3\">transformer_pipeline</label><div class=\"sk-toggleable__content\"><pre>['TV', 'Radio', 'Banners']</pre></div></div></div><div class=\"sk-serial\"><div class=\"sk-item\"><div class=\"sk-serial\"><div class=\"sk-item\"><div class=\"sk-estimator sk-toggleable\"><input class=\"sk-toggleable__control sk-hidden--visually\" id=\"743e268d-de23-4e2e-a530-f8f8115f32a9\" type=\"checkbox\" ><label class=\"sk-toggleable__label\" for=\"743e268d-de23-4e2e-a530-f8f8115f32a9\">ExponentialCarryover</label><div class=\"sk-toggleable__content\"><pre>ExponentialCarryover()</pre></div></div></div><div class=\"sk-item\"><div class=\"sk-estimator sk-toggleable\"><input class=\"sk-toggleable__control sk-hidden--visually\" id=\"570d22ba-41ac-4993-aca9-a610ff5b1236\" type=\"checkbox\" ><label class=\"sk-toggleable__label\" for=\"570d22ba-41ac-4993-aca9-a610ff5b1236\">ExponentialSaturation</label><div class=\"sk-toggleable__content\"><pre>ExponentialSaturation()</pre></div></div></div></div></div></div></div></div><div class=\"sk-parallel-item\"><div class=\"sk-item\"><div class=\"sk-label-container\"><div class=\"sk-label sk-toggleable\"><input class=\"sk-toggleable__control sk-hidden--visually\" id=\"c445443b-9b29-4a06-8a43-782a8a69f0b7\" type=\"checkbox\" ><label class=\"sk-toggleable__label\" for=\"c445443b-9b29-4a06-8a43-782a8a69f0b7\">remainder</label><div class=\"sk-toggleable__content\"><pre>[['TV', 'Radio', 'Banners']]</pre></div></div></div><div class=\"sk-serial\"><div class=\"sk-item\"><div class=\"sk-estimator sk-toggleable\"><input class=\"sk-toggleable__control sk-hidden--visually\" id=\"b8dc6a8b-5cb2-4a4d-9598-2cb53ae89e8d\" type=\"checkbox\" ><label class=\"sk-toggleable__label\" for=\"b8dc6a8b-5cb2-4a4d-9598-2cb53ae89e8d\">passthrough</label><div class=\"sk-toggleable__content\"><pre>passthrough</pre></div></div></div></div></div></div></div></div></div></div></div></div>"
      ],
      "text/plain": [
       "Pipeline(steps=[('transformer_num',\n",
       "                 ColumnTransformer(remainder='passthrough',\n",
       "                                   transformers=[('transformer_pipeline',\n",
       "                                                  Pipeline(steps=[('carryover',\n",
       "                                                                   ExponentialCarryover()),\n",
       "                                                                  ('saturation',\n",
       "                                                                   ExponentialSaturation())]),\n",
       "                                                  ['TV', 'Radio',\n",
       "                                                   'Banners'])]))])"
      ]
     },
     "metadata": {},
     "output_type": "display_data"
    }
   ],
   "source": [
    "num_cols = featureTransformer\n",
    "\n",
    "num_pipeline = Pipeline(\n",
    "    [\n",
    "        (\"transformer_num\", transformer_num), #Transformacion de los datos numericos\n",
    "    ]\n",
    ")\n",
    "display(num_pipeline)\n",
    "\n",
    "# Como no tengo pipeline categorico\n",
    "full_pipeline = num_pipeline"
   ]
  },
  {
   "cell_type": "code",
   "execution_count": 69,
   "id": "c21ca1b7",
   "metadata": {},
   "outputs": [],
   "source": [
    "model = Pipeline(\n",
    "    [\n",
    "        (\"transformer_num\", transformer_num), #Transformacion de los datos numericos\n",
    "        (\"regression\", LinearRegression())\n",
    "    ]\n",
    ")"
   ]
  },
  {
   "cell_type": "code",
   "execution_count": 43,
   "id": "d4757d4a",
   "metadata": {},
   "outputs": [],
   "source": [
    "# X_num = num_pipeline.fit_transform(x_train[num_cols], y_train)\n",
    "# print(X_num)"
   ]
  },
  {
   "cell_type": "code",
   "execution_count": 71,
   "id": "7a28bc33",
   "metadata": {},
   "outputs": [
    {
     "data": {
      "text/html": [
       "<style>#sk-c86dc814-1456-49da-80f6-600276d32b05 {color: black;background-color: white;}#sk-c86dc814-1456-49da-80f6-600276d32b05 pre{padding: 0;}#sk-c86dc814-1456-49da-80f6-600276d32b05 div.sk-toggleable {background-color: white;}#sk-c86dc814-1456-49da-80f6-600276d32b05 label.sk-toggleable__label {cursor: pointer;display: block;width: 100%;margin-bottom: 0;padding: 0.2em 0.3em;box-sizing: border-box;text-align: center;}#sk-c86dc814-1456-49da-80f6-600276d32b05 div.sk-toggleable__content {max-height: 0;max-width: 0;overflow: hidden;text-align: left;background-color: #f0f8ff;}#sk-c86dc814-1456-49da-80f6-600276d32b05 div.sk-toggleable__content pre {margin: 0.2em;color: black;border-radius: 0.25em;background-color: #f0f8ff;}#sk-c86dc814-1456-49da-80f6-600276d32b05 input.sk-toggleable__control:checked~div.sk-toggleable__content {max-height: 200px;max-width: 100%;overflow: auto;}#sk-c86dc814-1456-49da-80f6-600276d32b05 div.sk-estimator input.sk-toggleable__control:checked~label.sk-toggleable__label {background-color: #d4ebff;}#sk-c86dc814-1456-49da-80f6-600276d32b05 div.sk-label input.sk-toggleable__control:checked~label.sk-toggleable__label {background-color: #d4ebff;}#sk-c86dc814-1456-49da-80f6-600276d32b05 input.sk-hidden--visually {border: 0;clip: rect(1px 1px 1px 1px);clip: rect(1px, 1px, 1px, 1px);height: 1px;margin: -1px;overflow: hidden;padding: 0;position: absolute;width: 1px;}#sk-c86dc814-1456-49da-80f6-600276d32b05 div.sk-estimator {font-family: monospace;background-color: #f0f8ff;margin: 0.25em 0.25em;border: 1px dotted black;border-radius: 0.25em;box-sizing: border-box;}#sk-c86dc814-1456-49da-80f6-600276d32b05 div.sk-estimator:hover {background-color: #d4ebff;}#sk-c86dc814-1456-49da-80f6-600276d32b05 div.sk-parallel-item::after {content: \"\";width: 100%;border-bottom: 1px solid gray;flex-grow: 1;}#sk-c86dc814-1456-49da-80f6-600276d32b05 div.sk-label:hover label.sk-toggleable__label {background-color: #d4ebff;}#sk-c86dc814-1456-49da-80f6-600276d32b05 div.sk-serial::before {content: \"\";position: absolute;border-left: 1px solid gray;box-sizing: border-box;top: 2em;bottom: 0;left: 50%;}#sk-c86dc814-1456-49da-80f6-600276d32b05 div.sk-serial {display: flex;flex-direction: column;align-items: center;background-color: white;}#sk-c86dc814-1456-49da-80f6-600276d32b05 div.sk-item {z-index: 1;}#sk-c86dc814-1456-49da-80f6-600276d32b05 div.sk-parallel {display: flex;align-items: stretch;justify-content: center;background-color: white;}#sk-c86dc814-1456-49da-80f6-600276d32b05 div.sk-parallel-item {display: flex;flex-direction: column;position: relative;background-color: white;}#sk-c86dc814-1456-49da-80f6-600276d32b05 div.sk-parallel-item:first-child::after {align-self: flex-end;width: 50%;}#sk-c86dc814-1456-49da-80f6-600276d32b05 div.sk-parallel-item:last-child::after {align-self: flex-start;width: 50%;}#sk-c86dc814-1456-49da-80f6-600276d32b05 div.sk-parallel-item:only-child::after {width: 0;}#sk-c86dc814-1456-49da-80f6-600276d32b05 div.sk-dashed-wrapped {border: 1px dashed gray;margin: 0.2em;box-sizing: border-box;padding-bottom: 0.1em;background-color: white;position: relative;}#sk-c86dc814-1456-49da-80f6-600276d32b05 div.sk-label label {font-family: monospace;font-weight: bold;background-color: white;display: inline-block;line-height: 1.2em;}#sk-c86dc814-1456-49da-80f6-600276d32b05 div.sk-label-container {position: relative;z-index: 2;text-align: center;}#sk-c86dc814-1456-49da-80f6-600276d32b05 div.sk-container {display: inline-block;position: relative;}</style><div id=\"sk-c86dc814-1456-49da-80f6-600276d32b05\" class\"sk-top-container\"><div class=\"sk-container\"><div class=\"sk-item sk-dashed-wrapped\"><div class=\"sk-label-container\"><div class=\"sk-label sk-toggleable\"><input class=\"sk-toggleable__control sk-hidden--visually\" id=\"c4f1879a-e7e0-418d-b671-bec4bb689aca\" type=\"checkbox\" ><label class=\"sk-toggleable__label\" for=\"c4f1879a-e7e0-418d-b671-bec4bb689aca\">Pipeline</label><div class=\"sk-toggleable__content\"><pre>Pipeline(steps=[('transformer_num',\n",
       "                 ColumnTransformer(remainder='passthrough',\n",
       "                                   transformers=[('transformer_pipeline',\n",
       "                                                  Pipeline(steps=[('carryover',\n",
       "                                                                   ExponentialCarryover()),\n",
       "                                                                  ('saturation',\n",
       "                                                                   ExponentialSaturation())]),\n",
       "                                                  ['TV', 'Radio',\n",
       "                                                   'Banners'])])),\n",
       "                ('regression', LinearRegression())])</pre></div></div></div><div class=\"sk-serial\"><div class=\"sk-item sk-dashed-wrapped\"><div class=\"sk-label-container\"><div class=\"sk-label sk-toggleable\"><input class=\"sk-toggleable__control sk-hidden--visually\" id=\"925a861e-b084-4bb0-9cdd-909c9c981d00\" type=\"checkbox\" ><label class=\"sk-toggleable__label\" for=\"925a861e-b084-4bb0-9cdd-909c9c981d00\">transformer_num: ColumnTransformer</label><div class=\"sk-toggleable__content\"><pre>ColumnTransformer(remainder='passthrough',\n",
       "                  transformers=[('transformer_pipeline',\n",
       "                                 Pipeline(steps=[('carryover',\n",
       "                                                  ExponentialCarryover()),\n",
       "                                                 ('saturation',\n",
       "                                                  ExponentialSaturation())]),\n",
       "                                 ['TV', 'Radio', 'Banners'])])</pre></div></div></div><div class=\"sk-parallel\"><div class=\"sk-parallel-item\"><div class=\"sk-item\"><div class=\"sk-label-container\"><div class=\"sk-label sk-toggleable\"><input class=\"sk-toggleable__control sk-hidden--visually\" id=\"1bc6a391-33da-4f76-b6ac-66dd0d399d64\" type=\"checkbox\" ><label class=\"sk-toggleable__label\" for=\"1bc6a391-33da-4f76-b6ac-66dd0d399d64\">transformer_pipeline</label><div class=\"sk-toggleable__content\"><pre>['TV', 'Radio', 'Banners']</pre></div></div></div><div class=\"sk-serial\"><div class=\"sk-item\"><div class=\"sk-serial\"><div class=\"sk-item\"><div class=\"sk-estimator sk-toggleable\"><input class=\"sk-toggleable__control sk-hidden--visually\" id=\"e696050c-f040-4c89-b2d2-c67a34dd876b\" type=\"checkbox\" ><label class=\"sk-toggleable__label\" for=\"e696050c-f040-4c89-b2d2-c67a34dd876b\">ExponentialCarryover</label><div class=\"sk-toggleable__content\"><pre>ExponentialCarryover()</pre></div></div></div><div class=\"sk-item\"><div class=\"sk-estimator sk-toggleable\"><input class=\"sk-toggleable__control sk-hidden--visually\" id=\"0ad02692-85ba-4e1f-a2c7-3bc10ac98fa4\" type=\"checkbox\" ><label class=\"sk-toggleable__label\" for=\"0ad02692-85ba-4e1f-a2c7-3bc10ac98fa4\">ExponentialSaturation</label><div class=\"sk-toggleable__content\"><pre>ExponentialSaturation()</pre></div></div></div></div></div></div></div></div><div class=\"sk-parallel-item\"><div class=\"sk-item\"><div class=\"sk-label-container\"><div class=\"sk-label sk-toggleable\"><input class=\"sk-toggleable__control sk-hidden--visually\" id=\"e9115ba5-fbbb-482b-9855-87dbccfd079b\" type=\"checkbox\" ><label class=\"sk-toggleable__label\" for=\"e9115ba5-fbbb-482b-9855-87dbccfd079b\">remainder</label><div class=\"sk-toggleable__content\"><pre>[['TV', 'Radio', 'Banners']]</pre></div></div></div><div class=\"sk-serial\"><div class=\"sk-item\"><div class=\"sk-estimator sk-toggleable\"><input class=\"sk-toggleable__control sk-hidden--visually\" id=\"3bce0470-df62-492d-a608-fd279246eebe\" type=\"checkbox\" ><label class=\"sk-toggleable__label\" for=\"3bce0470-df62-492d-a608-fd279246eebe\">passthrough</label><div class=\"sk-toggleable__content\"><pre>passthrough</pre></div></div></div></div></div></div></div></div><div class=\"sk-item\"><div class=\"sk-estimator sk-toggleable\"><input class=\"sk-toggleable__control sk-hidden--visually\" id=\"82a93e01-8a78-4d0f-9e31-bdbfde49aab0\" type=\"checkbox\" ><label class=\"sk-toggleable__label\" for=\"82a93e01-8a78-4d0f-9e31-bdbfde49aab0\">LinearRegression</label><div class=\"sk-toggleable__content\"><pre>LinearRegression()</pre></div></div></div></div></div></div></div>"
      ],
      "text/plain": [
       "Pipeline(steps=[('transformer_num',\n",
       "                 ColumnTransformer(remainder='passthrough',\n",
       "                                   transformers=[('transformer_pipeline',\n",
       "                                                  Pipeline(steps=[('carryover',\n",
       "                                                                   ExponentialCarryover()),\n",
       "                                                                  ('saturation',\n",
       "                                                                   ExponentialSaturation())]),\n",
       "                                                  ['TV', 'Radio',\n",
       "                                                   'Banners'])])),\n",
       "                ('regression', LinearRegression())])"
      ]
     },
     "execution_count": 71,
     "metadata": {},
     "output_type": "execute_result"
    }
   ],
   "source": [
    "model.fit(x_train, y_train)"
   ]
  },
  {
   "cell_type": "code",
   "execution_count": 74,
   "id": "21cf5920",
   "metadata": {},
   "outputs": [
    {
     "name": "stdout",
     "output_type": "stream",
     "text": [
      "0.1871970334354187\n"
     ]
    }
   ],
   "source": [
    "from sklearn.model_selection import cross_val_score, TimeSeriesSplit\n",
    "print(cross_val_score(model, x_train, y_train, cv=TimeSeriesSplit()).mean())"
   ]
  },
  {
   "cell_type": "code",
   "execution_count": null,
   "id": "f54e10c8",
   "metadata": {},
   "outputs": [],
   "source": []
  },
  {
   "cell_type": "code",
   "execution_count": null,
   "id": "72ecd1d7",
   "metadata": {},
   "outputs": [],
   "source": [
    "## TUNEANDO LOS VALORES"
   ]
  },
  {
   "cell_type": "code",
   "execution_count": 75,
   "id": "f1cfcf7a",
   "metadata": {},
   "outputs": [
    {
     "ename": "ModuleNotFoundError",
     "evalue": "No module named 'optuna'",
     "output_type": "error",
     "traceback": [
      "\u001b[1;31m---------------------------------------------------------------------------\u001b[0m",
      "\u001b[1;31mModuleNotFoundError\u001b[0m                       Traceback (most recent call last)",
      "\u001b[1;32m<ipython-input-75-e646066adad2>\u001b[0m in \u001b[0;36m<module>\u001b[1;34m\u001b[0m\n\u001b[1;32m----> 1\u001b[1;33m \u001b[1;32mfrom\u001b[0m \u001b[0moptuna\u001b[0m\u001b[1;33m.\u001b[0m\u001b[0mintegration\u001b[0m \u001b[1;32mimport\u001b[0m \u001b[0mOptunaSearchCV\u001b[0m\u001b[1;33m\u001b[0m\u001b[1;33m\u001b[0m\u001b[0m\n\u001b[0m\u001b[0;32m      2\u001b[0m \u001b[1;32mfrom\u001b[0m \u001b[0moptuna\u001b[0m\u001b[1;33m.\u001b[0m\u001b[0mdistributions\u001b[0m \u001b[1;32mimport\u001b[0m \u001b[0mUniformDistribution\u001b[0m\u001b[1;33m,\u001b[0m\u001b[0mIntUniformDistribution\u001b[0m\u001b[1;33m\u001b[0m\u001b[1;33m\u001b[0m\u001b[0m\n\u001b[0;32m      3\u001b[0m \u001b[1;33m\u001b[0m\u001b[0m\n\u001b[0;32m      4\u001b[0m tuned_model = OptunaSearchCV(\n\u001b[0;32m      5\u001b[0m     \u001b[0mestimator\u001b[0m\u001b[1;33m=\u001b[0m\u001b[0mmodel\u001b[0m\u001b[1;33m,\u001b[0m\u001b[1;33m\u001b[0m\u001b[1;33m\u001b[0m\u001b[0m\n",
      "\u001b[1;31mModuleNotFoundError\u001b[0m: No module named 'optuna'"
     ]
    }
   ],
   "source": [
    "from optuna.integration import OptunaSearchCV\n",
    "from optuna.distributions import UniformDistribution,IntUniformDistribution\n",
    "\n",
    "tuned_model = OptunaSearchCV(\n",
    "    estimator=model,\n",
    "    param_distributions={\n",
    "    'adstock__tv_pipe__carryover__strength': UniformDistribution(0, 1),\n",
    "    'adstock__tv_pipe__carryover__length': IntUniformDistribution(0, 6),\n",
    "    'adstock__tv_pipe__saturation__a': UniformDistribution(0,0.01),\n",
    "    'adstock__radio_pipe__carryover__strength': UniformDistribution(0, 1),\n",
    "    'adstock__radio_pipe__carryover__length': IntUniformDistribution(0, 6),\n",
    "    'adstock__radio_pipe__saturation__a': UniformDistribution(0,0.01),\n",
    "    'adstock__banners_pipe__carryover__strength': UniformDistribution(0, 1),\n",
    "    'adstock__banners_pipe__carryover__length': IntUniformDistribution(0, 6),\n",
    "    'adstock__banners_pipe__saturation__a': UniformDistribution(0, 0.01),\n",
    "    },\n",
    "    n_trials=1000,\n",
    "\n",
    "    cv=TimeSeriesSplit(),\n",
    "    random_state=88\n",
    ")"
   ]
  },
  {
   "cell_type": "code",
   "execution_count": null,
   "id": "dad75d7c",
   "metadata": {},
   "outputs": [],
   "source": []
  },
  {
   "cell_type": "code",
   "execution_count": null,
   "id": "228f57e2",
   "metadata": {},
   "outputs": [],
   "source": [
    "from sklearn.pipeline import Pipeline\n",
    "from sklearn.preprocessing import OneHotEncoder\n"
   ]
  },
  {
   "cell_type": "code",
   "execution_count": null,
   "id": "fb8b36b4",
   "metadata": {},
   "outputs": [],
   "source": [
    "from sklearn.compose import ColumnTransformer\n",
    "from sklearn.pipeline import FeatureUnion\n",
    "from sklearn.linear_model import LinearRegression"
   ]
  },
  {
   "cell_type": "code",
   "execution_count": null,
   "id": "aa660f64",
   "metadata": {},
   "outputs": [],
   "source": [
    "# Para las columnas \"TV, Radio y Banners\"\n",
    "adstock_pipe = Pipeline([\n",
    "    ('carryover', ExponentialCarryover()),\n",
    "    ('saturation', ExponentialSaturation())\n",
    "])\n",
    "\n"
   ]
  },
  {
   "cell_type": "code",
   "execution_count": null,
   "id": "67115c1b",
   "metadata": {},
   "outputs": [],
   "source": []
  },
  {
   "cell_type": "code",
   "execution_count": null,
   "id": "90ba3774",
   "metadata": {},
   "outputs": [],
   "source": [
    "class ExponentialSaturation:\n",
    "    def __init__(self, a=1.):\n",
    "        self.a = a\n",
    "    def transform(self, X):\n",
    "        return 1 - np.exp(-self.a*X)\n"
   ]
  },
  {
   "cell_type": "code",
   "execution_count": null,
   "id": "7c9d8dcc",
   "metadata": {},
   "outputs": [],
   "source": [
    "from sklearn.base import BaseEstimator, TransformerMixin\n",
    "from sklearn.utils.validation import check_is_fitted, check_array\n",
    "\n",
    "class ExponentialSaturation(BaseEstimator, TransformerMixin):\n",
    "    def __init__(self, a=1.):\n",
    "        self.a = a\n",
    "    def fit(self, X, y=None):\n",
    "        X = check_array(X)\n",
    "        self._check_n_features(X, reset=True) # from BaseEstimator\n",
    "        \n",
    "        return self\n",
    "    \n",
    "def transform(self, X):\n",
    "    check_is_fitted(self)\n",
    "    X = check_array(X)\n",
    "    self._check_n_features(X, reset=False) # from BaseEstimator \n",
    "    return 1 - np.exp (-self.a * X)\n",
    "\n",
    "\n"
   ]
  },
  {
   "cell_type": "code",
   "execution_count": null,
   "id": "a87458e0",
   "metadata": {},
   "outputs": [],
   "source": []
  },
  {
   "cell_type": "code",
   "execution_count": null,
   "id": "8520653e",
   "metadata": {},
   "outputs": [],
   "source": []
  },
  {
   "cell_type": "code",
   "execution_count": null,
   "id": "3dd398c0",
   "metadata": {},
   "outputs": [],
   "source": []
  }
 ],
 "metadata": {
  "kernelspec": {
   "display_name": "Python 3",
   "language": "python",
   "name": "python3"
  },
  "language_info": {
   "codemirror_mode": {
    "name": "ipython",
    "version": 3
   },
   "file_extension": ".py",
   "mimetype": "text/x-python",
   "name": "python",
   "nbconvert_exporter": "python",
   "pygments_lexer": "ipython3",
   "version": "3.8.8"
  }
 },
 "nbformat": 4,
 "nbformat_minor": 5
}
