{
 "cells": [
  {
   "cell_type": "markdown",
   "id": "0bbd5426",
   "metadata": {},
   "source": [
    "# Marketing Mix Modeling in Python"
   ]
  },
  {
   "cell_type": "markdown",
   "id": "0726c6a0",
   "metadata": {},
   "source": [
    "![banner](https://raw.githubusercontent.com/MayumyCH/marketing_mix_modeling_project_python/main/resources/banner.jpeg)\n",
    "\n",
    "_Este proyecto propone el análisis de la data proporcionada por Kaggle para el área de Marketing; se busca encontrar **\"Qué inversión publicitaria impulsa** realmente **las ventas\"**._"
   ]
  },
  {
   "cell_type": "code",
   "execution_count": 1,
   "id": "df44beae",
   "metadata": {},
   "outputs": [],
   "source": [
    "import pandas as pd\n",
    "import matplotlib.pyplot as plt \n",
    "import seaborn as sns \n",
    "import numpy as np "
   ]
  },
  {
   "cell_type": "code",
   "execution_count": 9,
   "id": "c2a3d649",
   "metadata": {},
   "outputs": [
    {
     "data": {
      "text/html": [
       "<div>\n",
       "<style scoped>\n",
       "    .dataframe tbody tr th:only-of-type {\n",
       "        vertical-align: middle;\n",
       "    }\n",
       "\n",
       "    .dataframe tbody tr th {\n",
       "        vertical-align: top;\n",
       "    }\n",
       "\n",
       "    .dataframe thead th {\n",
       "        text-align: right;\n",
       "    }\n",
       "</style>\n",
       "<table border=\"1\" class=\"dataframe\">\n",
       "  <thead>\n",
       "    <tr style=\"text-align: right;\">\n",
       "      <th></th>\n",
       "      <th>TV</th>\n",
       "      <th>Radio</th>\n",
       "      <th>Social Media</th>\n",
       "      <th>Influencer</th>\n",
       "      <th>Sales</th>\n",
       "    </tr>\n",
       "  </thead>\n",
       "  <tbody>\n",
       "    <tr>\n",
       "      <th>4567</th>\n",
       "      <td>26.0</td>\n",
       "      <td>4.472360</td>\n",
       "      <td>0.717090</td>\n",
       "      <td>Micro</td>\n",
       "      <td>94.685866</td>\n",
       "    </tr>\n",
       "    <tr>\n",
       "      <th>4568</th>\n",
       "      <td>71.0</td>\n",
       "      <td>20.610685</td>\n",
       "      <td>6.545573</td>\n",
       "      <td>Nano</td>\n",
       "      <td>249.101915</td>\n",
       "    </tr>\n",
       "    <tr>\n",
       "      <th>4569</th>\n",
       "      <td>44.0</td>\n",
       "      <td>19.800072</td>\n",
       "      <td>5.096192</td>\n",
       "      <td>Micro</td>\n",
       "      <td>163.631457</td>\n",
       "    </tr>\n",
       "    <tr>\n",
       "      <th>4570</th>\n",
       "      <td>71.0</td>\n",
       "      <td>17.534640</td>\n",
       "      <td>1.940873</td>\n",
       "      <td>Macro</td>\n",
       "      <td>253.610411</td>\n",
       "    </tr>\n",
       "    <tr>\n",
       "      <th>4571</th>\n",
       "      <td>42.0</td>\n",
       "      <td>15.966688</td>\n",
       "      <td>5.046548</td>\n",
       "      <td>Micro</td>\n",
       "      <td>148.202414</td>\n",
       "    </tr>\n",
       "  </tbody>\n",
       "</table>\n",
       "</div>"
      ],
      "text/plain": [
       "        TV      Radio  Social Media Influencer       Sales\n",
       "4567  26.0   4.472360      0.717090      Micro   94.685866\n",
       "4568  71.0  20.610685      6.545573       Nano  249.101915\n",
       "4569  44.0  19.800072      5.096192      Micro  163.631457\n",
       "4570  71.0  17.534640      1.940873      Macro  253.610411\n",
       "4571  42.0  15.966688      5.046548      Micro  148.202414"
      ]
     },
     "execution_count": 9,
     "metadata": {},
     "output_type": "execute_result"
    }
   ],
   "source": [
    "# Importar los datos\n",
    "url_data = \"dataset/data_marketing.csv\"\n",
    "data_Marketing = pd.read_csv(url_data)\n",
    "data_Marketing.tail()"
   ]
  },
  {
   "cell_type": "code",
   "execution_count": 10,
   "id": "e1eb4fd0",
   "metadata": {},
   "outputs": [
    {
     "data": {
      "text/plain": [
       "(4572, 5)"
      ]
     },
     "execution_count": 10,
     "metadata": {},
     "output_type": "execute_result"
    }
   ],
   "source": [
    "data_Marketing.shape\n",
    "\n",
    "# INTERPRETACION:\n",
    "# 4572 observaciones\n",
    "# 5 features/variables"
   ]
  },
  {
   "cell_type": "code",
   "execution_count": 12,
   "id": "7b5a8c99",
   "metadata": {},
   "outputs": [
    {
     "data": {
      "text/plain": [
       "TV              10\n",
       "Radio            4\n",
       "Social Media     6\n",
       "Influencer       0\n",
       "Sales            6\n",
       "dtype: int64"
      ]
     },
     "execution_count": 12,
     "metadata": {},
     "output_type": "execute_result"
    }
   ],
   "source": [
    "# CANTIDAD DE NULOS POR CADA FEATURE\n",
    "data_Marketing.isnull().sum()\n",
    "\n",
    "# INTERPRETACION:\n",
    "# Variable Tv: 10 Valores nulos\n",
    "# Variable Radio: 6 Valores nulos\n",
    "# Variable Social: 6 Valores nulos\n",
    "# Variable Influencer: 6 Valores nulos\n",
    "# Variable Sales(Ventas): 6 Valores nulos"
   ]
  },
  {
   "cell_type": "code",
   "execution_count": 13,
   "id": "2d42a07f",
   "metadata": {},
   "outputs": [
    {
     "name": "stdout",
     "output_type": "stream",
     "text": [
      "<class 'pandas.core.frame.DataFrame'>\n",
      "RangeIndex: 4572 entries, 0 to 4571\n",
      "Data columns (total 5 columns):\n",
      " #   Column        Non-Null Count  Dtype  \n",
      "---  ------        --------------  -----  \n",
      " 0   TV            4562 non-null   float64\n",
      " 1   Radio         4568 non-null   float64\n",
      " 2   Social Media  4566 non-null   float64\n",
      " 3   Influencer    4572 non-null   object \n",
      " 4   Sales         4566 non-null   float64\n",
      "dtypes: float64(4), object(1)\n",
      "memory usage: 178.7+ KB\n"
     ]
    }
   ],
   "source": [
    "data_Marketing.info()\n",
    "\n",
    "# INTERPRETACION:\n",
    "# 5 Features tipo Numericos (float)\n",
    "# 1 Features tipo Categorico (object)"
   ]
  },
  {
   "cell_type": "code",
   "execution_count": 14,
   "id": "7c132eae",
   "metadata": {},
   "outputs": [
    {
     "data": {
      "text/html": [
       "<div>\n",
       "<style scoped>\n",
       "    .dataframe tbody tr th:only-of-type {\n",
       "        vertical-align: middle;\n",
       "    }\n",
       "\n",
       "    .dataframe tbody tr th {\n",
       "        vertical-align: top;\n",
       "    }\n",
       "\n",
       "    .dataframe thead th {\n",
       "        text-align: right;\n",
       "    }\n",
       "</style>\n",
       "<table border=\"1\" class=\"dataframe\">\n",
       "  <thead>\n",
       "    <tr style=\"text-align: right;\">\n",
       "      <th></th>\n",
       "      <th>count</th>\n",
       "      <th>mean</th>\n",
       "      <th>std</th>\n",
       "      <th>min</th>\n",
       "      <th>25%</th>\n",
       "      <th>50%</th>\n",
       "      <th>75%</th>\n",
       "      <th>max</th>\n",
       "    </tr>\n",
       "  </thead>\n",
       "  <tbody>\n",
       "    <tr>\n",
       "      <th>TV</th>\n",
       "      <td>4562.0</td>\n",
       "      <td>54.066857</td>\n",
       "      <td>26.125054</td>\n",
       "      <td>10.000000</td>\n",
       "      <td>32.000000</td>\n",
       "      <td>53.000000</td>\n",
       "      <td>77.000000</td>\n",
       "      <td>100.000000</td>\n",
       "    </tr>\n",
       "    <tr>\n",
       "      <th>Radio</th>\n",
       "      <td>4568.0</td>\n",
       "      <td>18.160356</td>\n",
       "      <td>9.676958</td>\n",
       "      <td>0.000684</td>\n",
       "      <td>10.525957</td>\n",
       "      <td>17.859513</td>\n",
       "      <td>25.649730</td>\n",
       "      <td>48.871161</td>\n",
       "    </tr>\n",
       "    <tr>\n",
       "      <th>Social Media</th>\n",
       "      <td>4566.0</td>\n",
       "      <td>3.323956</td>\n",
       "      <td>2.212670</td>\n",
       "      <td>0.000031</td>\n",
       "      <td>1.527849</td>\n",
       "      <td>3.055565</td>\n",
       "      <td>4.807558</td>\n",
       "      <td>13.981662</td>\n",
       "    </tr>\n",
       "    <tr>\n",
       "      <th>Sales</th>\n",
       "      <td>4566.0</td>\n",
       "      <td>192.466602</td>\n",
       "      <td>93.133092</td>\n",
       "      <td>31.199409</td>\n",
       "      <td>112.322882</td>\n",
       "      <td>189.231172</td>\n",
       "      <td>272.507922</td>\n",
       "      <td>364.079751</td>\n",
       "    </tr>\n",
       "  </tbody>\n",
       "</table>\n",
       "</div>"
      ],
      "text/plain": [
       "               count        mean        std        min         25%  \\\n",
       "TV            4562.0   54.066857  26.125054  10.000000   32.000000   \n",
       "Radio         4568.0   18.160356   9.676958   0.000684   10.525957   \n",
       "Social Media  4566.0    3.323956   2.212670   0.000031    1.527849   \n",
       "Sales         4566.0  192.466602  93.133092  31.199409  112.322882   \n",
       "\n",
       "                     50%         75%         max  \n",
       "TV             53.000000   77.000000  100.000000  \n",
       "Radio          17.859513   25.649730   48.871161  \n",
       "Social Media    3.055565    4.807558   13.981662  \n",
       "Sales         189.231172  272.507922  364.079751  "
      ]
     },
     "execution_count": 14,
     "metadata": {},
     "output_type": "execute_result"
    }
   ],
   "source": [
    "data_Marketing.describe().T \n",
    "# Nota en este caso solo se veran los describes de las variables numericas!"
   ]
  },
  {
   "cell_type": "code",
   "execution_count": null,
   "id": "75b1c198",
   "metadata": {},
   "outputs": [],
   "source": []
  }
 ],
 "metadata": {
  "kernelspec": {
   "display_name": "Python 3",
   "language": "python",
   "name": "python3"
  },
  "language_info": {
   "codemirror_mode": {
    "name": "ipython",
    "version": 3
   },
   "file_extension": ".py",
   "mimetype": "text/x-python",
   "name": "python",
   "nbconvert_exporter": "python",
   "pygments_lexer": "ipython3",
   "version": "3.8.8"
  }
 },
 "nbformat": 4,
 "nbformat_minor": 5
}
