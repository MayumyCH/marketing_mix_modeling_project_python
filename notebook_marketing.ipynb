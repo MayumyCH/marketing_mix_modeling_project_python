{
 "cells": [
  {
   "cell_type": "markdown",
   "id": "0bbd5426",
   "metadata": {},
   "source": [
    "# Marketing Mix Modeling in Python"
   ]
  },
  {
   "cell_type": "markdown",
   "id": "0726c6a0",
   "metadata": {},
   "source": [
    "![banner](https://raw.githubusercontent.com/MayumyCH/marketing_mix_modeling_project_python/main/resources/banner.jpeg)\n",
    "\n",
    "_Este proyecto propone el análisis de la data proporcionada por Kaggle para el área de Marketing; se busca encontrar **\"Qué inversión publicitaria impulsa** realmente **las ventas\"**._"
   ]
  },
  {
   "cell_type": "code",
   "execution_count": 15,
   "id": "df44beae",
   "metadata": {},
   "outputs": [],
   "source": [
    "import pandas as pd\n",
    "import matplotlib.pyplot as plt \n",
    "import seaborn as sns \n",
    "import numpy as np "
   ]
  },
  {
   "cell_type": "code",
   "execution_count": 16,
   "id": "c2a3d649",
   "metadata": {},
   "outputs": [
    {
     "data": {
      "text/html": [
       "<div>\n",
       "<style scoped>\n",
       "    .dataframe tbody tr th:only-of-type {\n",
       "        vertical-align: middle;\n",
       "    }\n",
       "\n",
       "    .dataframe tbody tr th {\n",
       "        vertical-align: top;\n",
       "    }\n",
       "\n",
       "    .dataframe thead th {\n",
       "        text-align: right;\n",
       "    }\n",
       "</style>\n",
       "<table border=\"1\" class=\"dataframe\">\n",
       "  <thead>\n",
       "    <tr style=\"text-align: right;\">\n",
       "      <th></th>\n",
       "      <th>TV</th>\n",
       "      <th>Radio</th>\n",
       "      <th>Social Media</th>\n",
       "      <th>Influencer</th>\n",
       "      <th>Sales</th>\n",
       "    </tr>\n",
       "  </thead>\n",
       "  <tbody>\n",
       "    <tr>\n",
       "      <th>0</th>\n",
       "      <td>16.0</td>\n",
       "      <td>6.566231</td>\n",
       "      <td>2.907983</td>\n",
       "      <td>Mega</td>\n",
       "      <td>54.732757</td>\n",
       "    </tr>\n",
       "    <tr>\n",
       "      <th>1</th>\n",
       "      <td>13.0</td>\n",
       "      <td>9.237765</td>\n",
       "      <td>2.409567</td>\n",
       "      <td>Mega</td>\n",
       "      <td>46.677897</td>\n",
       "    </tr>\n",
       "    <tr>\n",
       "      <th>2</th>\n",
       "      <td>41.0</td>\n",
       "      <td>15.886446</td>\n",
       "      <td>2.913410</td>\n",
       "      <td>Mega</td>\n",
       "      <td>150.177829</td>\n",
       "    </tr>\n",
       "    <tr>\n",
       "      <th>3</th>\n",
       "      <td>83.0</td>\n",
       "      <td>30.020028</td>\n",
       "      <td>6.922304</td>\n",
       "      <td>Mega</td>\n",
       "      <td>298.246340</td>\n",
       "    </tr>\n",
       "    <tr>\n",
       "      <th>4</th>\n",
       "      <td>15.0</td>\n",
       "      <td>8.437408</td>\n",
       "      <td>1.405998</td>\n",
       "      <td>Micro</td>\n",
       "      <td>56.594181</td>\n",
       "    </tr>\n",
       "  </tbody>\n",
       "</table>\n",
       "</div>"
      ],
      "text/plain": [
       "     TV      Radio  Social Media Influencer       Sales\n",
       "0  16.0   6.566231      2.907983       Mega   54.732757\n",
       "1  13.0   9.237765      2.409567       Mega   46.677897\n",
       "2  41.0  15.886446      2.913410       Mega  150.177829\n",
       "3  83.0  30.020028      6.922304       Mega  298.246340\n",
       "4  15.0   8.437408      1.405998      Micro   56.594181"
      ]
     },
     "execution_count": 16,
     "metadata": {},
     "output_type": "execute_result"
    }
   ],
   "source": [
    "# Importar los datos\n",
    "url_data = \"dataset/data_marketing.csv\"\n",
    "data_Marketing = pd.read_csv(url_data)\n",
    "# data_Marketing.tail()\n",
    "data_Marketing.head()"
   ]
  },
  {
   "cell_type": "code",
   "execution_count": 17,
   "id": "e1eb4fd0",
   "metadata": {},
   "outputs": [
    {
     "data": {
      "text/plain": [
       "(4572, 5)"
      ]
     },
     "execution_count": 17,
     "metadata": {},
     "output_type": "execute_result"
    }
   ],
   "source": [
    "data_Marketing.shape\n",
    "\n",
    "# INTERPRETACION:\n",
    "# 4572 observaciones\n",
    "# 5 features/variables"
   ]
  },
  {
   "cell_type": "code",
   "execution_count": 27,
   "id": "7b5a8c99",
   "metadata": {},
   "outputs": [
    {
     "data": {
      "text/plain": [
       "TV              0\n",
       "Radio           0\n",
       "Social Media    0\n",
       "Influencer      0\n",
       "Sales           0\n",
       "dtype: int64"
      ]
     },
     "execution_count": 27,
     "metadata": {},
     "output_type": "execute_result"
    }
   ],
   "source": [
    "# CANTIDAD DE NULOS POR CADA FEATURE\n",
    "data_Marketing.isnull().sum()\n",
    "\n",
    "# INTERPRETACION:\n",
    "# Variable Tv: 10 Valores nulos\n",
    "# Variable Radio: 6 Valores nulos\n",
    "# Variable Social: 6 Valores nulos\n",
    "# Variable Sales(Ventas): 6 Valores nulos"
   ]
  },
  {
   "cell_type": "code",
   "execution_count": 26,
   "id": "2d42a07f",
   "metadata": {},
   "outputs": [
    {
     "name": "stdout",
     "output_type": "stream",
     "text": [
      "<class 'pandas.core.frame.DataFrame'>\n",
      "RangeIndex: 4572 entries, 0 to 4571\n",
      "Data columns (total 5 columns):\n",
      " #   Column        Non-Null Count  Dtype  \n",
      "---  ------        --------------  -----  \n",
      " 0   TV            4572 non-null   float64\n",
      " 1   Radio         4572 non-null   float64\n",
      " 2   Social Media  4572 non-null   float64\n",
      " 3   Influencer    4572 non-null   object \n",
      " 4   Sales         4572 non-null   float64\n",
      "dtypes: float64(4), object(1)\n",
      "memory usage: 178.7+ KB\n"
     ]
    }
   ],
   "source": [
    "data_Marketing.info()\n",
    "\n",
    "# INTERPRETACION:\n",
    "# 5 Features tipo Numericos (float)\n",
    "# 1 Features tipo Categorico (object)"
   ]
  },
  {
   "cell_type": "code",
   "execution_count": 20,
   "id": "7c132eae",
   "metadata": {},
   "outputs": [
    {
     "data": {
      "text/html": [
       "<div>\n",
       "<style scoped>\n",
       "    .dataframe tbody tr th:only-of-type {\n",
       "        vertical-align: middle;\n",
       "    }\n",
       "\n",
       "    .dataframe tbody tr th {\n",
       "        vertical-align: top;\n",
       "    }\n",
       "\n",
       "    .dataframe thead th {\n",
       "        text-align: right;\n",
       "    }\n",
       "</style>\n",
       "<table border=\"1\" class=\"dataframe\">\n",
       "  <thead>\n",
       "    <tr style=\"text-align: right;\">\n",
       "      <th></th>\n",
       "      <th>count</th>\n",
       "      <th>mean</th>\n",
       "      <th>std</th>\n",
       "      <th>min</th>\n",
       "      <th>25%</th>\n",
       "      <th>50%</th>\n",
       "      <th>75%</th>\n",
       "      <th>max</th>\n",
       "    </tr>\n",
       "  </thead>\n",
       "  <tbody>\n",
       "    <tr>\n",
       "      <th>TV</th>\n",
       "      <td>4562.0</td>\n",
       "      <td>54.066857</td>\n",
       "      <td>26.125054</td>\n",
       "      <td>10.000000</td>\n",
       "      <td>32.000000</td>\n",
       "      <td>53.000000</td>\n",
       "      <td>77.000000</td>\n",
       "      <td>100.000000</td>\n",
       "    </tr>\n",
       "    <tr>\n",
       "      <th>Radio</th>\n",
       "      <td>4568.0</td>\n",
       "      <td>18.160356</td>\n",
       "      <td>9.676958</td>\n",
       "      <td>0.000684</td>\n",
       "      <td>10.525957</td>\n",
       "      <td>17.859513</td>\n",
       "      <td>25.649730</td>\n",
       "      <td>48.871161</td>\n",
       "    </tr>\n",
       "    <tr>\n",
       "      <th>Social Media</th>\n",
       "      <td>4566.0</td>\n",
       "      <td>3.323956</td>\n",
       "      <td>2.212670</td>\n",
       "      <td>0.000031</td>\n",
       "      <td>1.527849</td>\n",
       "      <td>3.055565</td>\n",
       "      <td>4.807558</td>\n",
       "      <td>13.981662</td>\n",
       "    </tr>\n",
       "    <tr>\n",
       "      <th>Sales</th>\n",
       "      <td>4566.0</td>\n",
       "      <td>192.466602</td>\n",
       "      <td>93.133092</td>\n",
       "      <td>31.199409</td>\n",
       "      <td>112.322882</td>\n",
       "      <td>189.231172</td>\n",
       "      <td>272.507922</td>\n",
       "      <td>364.079751</td>\n",
       "    </tr>\n",
       "  </tbody>\n",
       "</table>\n",
       "</div>"
      ],
      "text/plain": [
       "               count        mean        std        min         25%  \\\n",
       "TV            4562.0   54.066857  26.125054  10.000000   32.000000   \n",
       "Radio         4568.0   18.160356   9.676958   0.000684   10.525957   \n",
       "Social Media  4566.0    3.323956   2.212670   0.000031    1.527849   \n",
       "Sales         4566.0  192.466602  93.133092  31.199409  112.322882   \n",
       "\n",
       "                     50%         75%         max  \n",
       "TV             53.000000   77.000000  100.000000  \n",
       "Radio          17.859513   25.649730   48.871161  \n",
       "Social Media    3.055565    4.807558   13.981662  \n",
       "Sales         189.231172  272.507922  364.079751  "
      ]
     },
     "execution_count": 20,
     "metadata": {},
     "output_type": "execute_result"
    }
   ],
   "source": [
    "data_Marketing.describe().T \n",
    "# Nota en este caso solo se veran los describes de las variables numericas!"
   ]
  },
  {
   "cell_type": "markdown",
   "id": "0739f153",
   "metadata": {},
   "source": [
    "## Analisis exploratorios ( EDA)"
   ]
  },
  {
   "cell_type": "code",
   "execution_count": null,
   "id": "1f74d63f",
   "metadata": {},
   "outputs": [],
   "source": []
  },
  {
   "cell_type": "code",
   "execution_count": null,
   "id": "74736d55",
   "metadata": {},
   "outputs": [],
   "source": []
  },
  {
   "cell_type": "code",
   "execution_count": 25,
   "id": "caff37ab",
   "metadata": {},
   "outputs": [],
   "source": [
    "## En este caso como hay valores nulos procederemos a trabajar a llenar estos valores\n",
    "## Como los valores que faltan son muy pequenos podria proceder a eliminarlos\n",
    "data_Marketing['TV'].fillna(data_Marketing['TV'].median(), inplace=True)\n",
    "data_Marketing['Radio'].fillna(data_Marketing['Radio'].median(), inplace=True)\n",
    "data_Marketing['Social Media'].fillna(data_Marketing['Social Media'].median(), inplace=True)\n",
    "data_Marketing['Sales'].fillna(data_Marketing['Sales'].median(), inplace=True)"
   ]
  },
  {
   "cell_type": "markdown",
   "id": "f249054b",
   "metadata": {},
   "source": [
    "## Regresión Lineal Multiple\n",
    "Representante más simple de los modelos aditivos!"
   ]
  },
  {
   "cell_type": "markdown",
   "id": "ce90790c",
   "metadata": {},
   "source": [
    "Nuestra regresión multiple se veria de la sgte forma:\n",
    "\n",
    "> $Y_{Sales} = Base + a(X_{Tv}) + b( X_{Radio}) + c( X_{Banner}$)\n"
   ]
  },
  {
   "cell_type": "code",
   "execution_count": 28,
   "id": "f92c6c0d",
   "metadata": {},
   "outputs": [],
   "source": [
    "target = 'Sales'\n",
    "predictoras = ['TV','Radio','Social Media']"
   ]
  },
  {
   "cell_type": "code",
   "execution_count": 29,
   "id": "93ff5728",
   "metadata": {},
   "outputs": [],
   "source": [
    "X = data_Marketing[predictoras]\n",
    "y = data_Marketing[target]"
   ]
  },
  {
   "cell_type": "code",
   "execution_count": 30,
   "id": "6fc734dd",
   "metadata": {},
   "outputs": [
    {
     "data": {
      "text/plain": [
       "LinearRegression()"
      ]
     },
     "execution_count": 30,
     "metadata": {},
     "output_type": "execute_result"
    }
   ],
   "source": [
    "# Generamos el conjunto de train y test gracias a sklearn\n",
    "from sklearn.model_selection import train_test_split, cross_val_score\n",
    "# Importamos el Modelo de Regresion Lineal\n",
    "from sklearn.linear_model import LinearRegression\n",
    "\n",
    "X_train, X_test, y_train, y_test = train_test_split(X, y, test_size=0.3, random_state=123)\n",
    "# Creamos el modelo de la regresion\n",
    "lm = LinearRegression() # Creando un objeto de Regresión Lineal 'lm'\n",
    "# Entrenamiento del modelo\n",
    "lm.fit(X_train, y_train)"
   ]
  },
  {
   "cell_type": "code",
   "execution_count": 31,
   "id": "ee50504f",
   "metadata": {},
   "outputs": [
    {
     "name": "stdout",
     "output_type": "stream",
     "text": [
      "La intersección del modelo lineal: 0.3902946338252775\n",
      "Los coeficientes del modelo lineal: [3.50398802 0.14088139 0.02341146]\n"
     ]
    }
   ],
   "source": [
    "print(\"La intersección del modelo lineal:\", lm.intercept_)\n",
    "print(\"Los coeficientes del modelo lineal:\", lm.coef_)"
   ]
  },
  {
   "cell_type": "markdown",
   "id": "fd0115af",
   "metadata": {},
   "source": [
    "El modelo quedara del sgte modo:\n",
    "> $Y_{Sales} = 0.39 + 3.5(X_{Tv}) + 0.14( X_{Radio}) + 0.02( X_{Banner}$)"
   ]
  },
  {
   "cell_type": "markdown",
   "id": "b42c681b",
   "metadata": {},
   "source": [
    "**Interpretación:**\n",
    "\n",
    "*   Si no invertimos en publicidad en radio podremos decir que: Por cada aumento en una unidad de **la inversion en publicidad en la Tv**, el **total de ventas del producto** aumentará en **0.06 mil de soles**.\n",
    "*   Si no invertimos en publicidad en tv podremos decir que: Por cada aumento en una unidad de **la inversion en publicidad en la radio**, el **total de ventas del producto** aumentará en **0.10 mil de soles**.\n",
    "*   Cuando las variables predictoras sean 0, el **total de ventas del producto** es de 4.48 mil de soles\n"
   ]
  },
  {
   "cell_type": "code",
   "execution_count": 45,
   "id": "19719eb2",
   "metadata": {},
   "outputs": [],
   "source": [
    "# Predecimos la data de entrenamiento y la data del test\n",
    "train_pred=lm.predict(X_train)\n",
    "test_pred=lm.predict(X_test)"
   ]
  },
  {
   "cell_type": "code",
   "execution_count": 52,
   "id": "4e0f68ad",
   "metadata": {},
   "outputs": [
    {
     "data": {
      "text/html": [
       "<div>\n",
       "<style scoped>\n",
       "    .dataframe tbody tr th:only-of-type {\n",
       "        vertical-align: middle;\n",
       "    }\n",
       "\n",
       "    .dataframe tbody tr th {\n",
       "        vertical-align: top;\n",
       "    }\n",
       "\n",
       "    .dataframe thead th {\n",
       "        text-align: right;\n",
       "    }\n",
       "</style>\n",
       "<table border=\"1\" class=\"dataframe\">\n",
       "  <thead>\n",
       "    <tr style=\"text-align: right;\">\n",
       "      <th></th>\n",
       "      <th>TV</th>\n",
       "      <th>Radio</th>\n",
       "      <th>Social Media</th>\n",
       "      <th>Sales</th>\n",
       "      <th>Sales Predict</th>\n",
       "    </tr>\n",
       "  </thead>\n",
       "  <tbody>\n",
       "    <tr>\n",
       "      <th>2546</th>\n",
       "      <td>20.0</td>\n",
       "      <td>3.315551</td>\n",
       "      <td>0.424423</td>\n",
       "      <td>71.754233</td>\n",
       "      <td>70.947091</td>\n",
       "    </tr>\n",
       "    <tr>\n",
       "      <th>732</th>\n",
       "      <td>25.0</td>\n",
       "      <td>0.981140</td>\n",
       "      <td>1.377660</td>\n",
       "      <td>92.302431</td>\n",
       "      <td>88.160473</td>\n",
       "    </tr>\n",
       "    <tr>\n",
       "      <th>3559</th>\n",
       "      <td>86.0</td>\n",
       "      <td>18.907308</td>\n",
       "      <td>4.165040</td>\n",
       "      <td>305.204371</td>\n",
       "      <td>304.494462</td>\n",
       "    </tr>\n",
       "    <tr>\n",
       "      <th>1729</th>\n",
       "      <td>52.0</td>\n",
       "      <td>19.521404</td>\n",
       "      <td>5.296023</td>\n",
       "      <td>188.037471</td>\n",
       "      <td>185.471862</td>\n",
       "    </tr>\n",
       "    <tr>\n",
       "      <th>618</th>\n",
       "      <td>78.0</td>\n",
       "      <td>18.159047</td>\n",
       "      <td>4.246496</td>\n",
       "      <td>274.093997</td>\n",
       "      <td>276.359049</td>\n",
       "    </tr>\n",
       "  </tbody>\n",
       "</table>\n",
       "</div>"
      ],
      "text/plain": [
       "        TV      Radio  Social Media       Sales  Sales Predict\n",
       "2546  20.0   3.315551      0.424423   71.754233      70.947091\n",
       "732   25.0   0.981140      1.377660   92.302431      88.160473\n",
       "3559  86.0  18.907308      4.165040  305.204371     304.494462\n",
       "1729  52.0  19.521404      5.296023  188.037471     185.471862\n",
       "618   78.0  18.159047      4.246496  274.093997     276.359049"
      ]
     },
     "execution_count": 52,
     "metadata": {},
     "output_type": "execute_result"
    }
   ],
   "source": [
    "# Visualizaremos el ENTRENAMIENTO y la PREDICCION\n",
    "# -----------------------------------------------\n",
    "df_train= pd.concat([X_train, y_train], axis = 1).head() # DATA REAL DE ENTRENAMIENTO\n",
    "df_train['Sales Predict'] = train_pred[:5] # LA PREDICIÓN DE ENTRENAMIENTO\n",
    "df_train"
   ]
  },
  {
   "cell_type": "markdown",
   "id": "4c2b7588",
   "metadata": {},
   "source": [
    "El modelo quedara del sgte modo:\n",
    "-- 2546--\n",
    "> $Y_{Sales} = 0.39 + 3.5(20.0) + 0.14( 3.32) + 0.02( 0.42)$"
   ]
  },
  {
   "cell_type": "code",
   "execution_count": 53,
   "id": "de25bdb1",
   "metadata": {},
   "outputs": [
    {
     "data": {
      "text/plain": [
       "70.94709082940875"
      ]
     },
     "execution_count": 53,
     "metadata": {},
     "output_type": "execute_result"
    }
   ],
   "source": [
    "# Ejemplo manual # 2546\n",
    "y_2546 = 0.3902946338252775 + 3.50398802*(20.0) + 0.14088139*(3.315551) + 0.02341146*(0.424423)\n",
    "y_2546"
   ]
  },
  {
   "cell_type": "code",
   "execution_count": 56,
   "id": "c3713403",
   "metadata": {},
   "outputs": [
    {
     "data": {
      "text/plain": [
       "0.8071421705912485"
      ]
     },
     "execution_count": 56,
     "metadata": {},
     "output_type": "execute_result"
    }
   ],
   "source": [
    "71.754233 - 70.94709082940875"
   ]
  },
  {
   "cell_type": "code",
   "execution_count": 63,
   "id": "58aca1e4",
   "metadata": {},
   "outputs": [
    {
     "data": {
      "text/plain": [
       "1.0113766774811388"
      ]
     },
     "execution_count": 63,
     "metadata": {},
     "output_type": "execute_result"
    }
   ],
   "source": [
    "71.754233 / 70.94709082940875"
   ]
  },
  {
   "cell_type": "markdown",
   "id": "04a1bf79",
   "metadata": {},
   "source": [
    "Como se observa de lo predecido al valor real existe una diferencia de 0.807"
   ]
  },
  {
   "cell_type": "code",
   "execution_count": 58,
   "id": "0936c22d",
   "metadata": {},
   "outputs": [
    {
     "data": {
      "text/plain": [
       "70.0797604"
      ]
     },
     "execution_count": 58,
     "metadata": {},
     "output_type": "execute_result"
    }
   ],
   "source": [
    "3.50398802*(20.0)\n",
    "# Contribucion no ajustada de la television"
   ]
  },
  {
   "cell_type": "markdown",
   "id": "a0d91084",
   "metadata": {},
   "source": [
    "> $coef_{Tv} * (X_{Tv}) = 3.50398802(20) =70.0797604$"
   ]
  },
  {
   "cell_type": "code",
   "execution_count": null,
   "id": "edbba78c",
   "metadata": {},
   "outputs": [],
   "source": [
    "# multipliquemos las contribuciones y la línea de base \n",
    "# por un factor de corrección correct_factor = 15904.11 / 16147.0159 ≈ 0.985 y todo está bien. Obtenemos"
   ]
  },
  {
   "cell_type": "markdown",
   "id": "12124651",
   "metadata": {},
   "source": [
    "> $correctFactor = \\frac{Y_{sales}}{Y_{salesPredict}} = \\frac{71.754233}{70.94709082940875}  \\approx 1.011$"
   ]
  },
  {
   "cell_type": "markdown",
   "id": "0e622203",
   "metadata": {},
   "source": [
    "Entonces la contribucion de la Tv es:\n",
    "    \n",
    "> $Contribucion_{Tv} = correctFactor * (70.0797604) = 1.011* (70.0797604) =70.85063776439999$"
   ]
  },
  {
   "cell_type": "code",
   "execution_count": 67,
   "id": "0791e611",
   "metadata": {},
   "outputs": [
    {
     "data": {
      "text/plain": [
       "70.85063776439999"
      ]
     },
     "execution_count": 67,
     "metadata": {},
     "output_type": "execute_result"
    }
   ],
   "source": [
    "1.011* (70.0797604)"
   ]
  },
  {
   "cell_type": "code",
   "execution_count": null,
   "id": "e0de7097",
   "metadata": {},
   "outputs": [],
   "source": []
  }
 ],
 "metadata": {
  "kernelspec": {
   "display_name": "Python 3",
   "language": "python",
   "name": "python3"
  },
  "language_info": {
   "codemirror_mode": {
    "name": "ipython",
    "version": 3
   },
   "file_extension": ".py",
   "mimetype": "text/x-python",
   "name": "python",
   "nbconvert_exporter": "python",
   "pygments_lexer": "ipython3",
   "version": "3.8.8"
  }
 },
 "nbformat": 4,
 "nbformat_minor": 5
}
